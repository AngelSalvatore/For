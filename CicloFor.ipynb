//Ejemplo 1
for x in range (10):
    print(x)

//Ejemplo 2
for y in range (5,10):
    print(y)

for z in range(2, 20, 2):
    print(z)

aprobados=0
reprobados=0
for f in range(10):
    nota=int(input("Ingrese la nota:"))
    if nota>=7:
        aprobados=aprobados+1
    else:
        reprobados=reprobados+1
print("Cantidad de aprobados")
print(aprobados)
print("Cantidad de reprobados")
print(reprobados)
